{
 "cells": [
  {
   "cell_type": "code",
   "execution_count": 3,
   "metadata": {},
   "outputs": [],
   "source": [
    "import pandas as pd\n",
    "import numpy as np\n",
    "import seaborn as sns\n",
    "from matplotlib import pyplot as plt\n",
    "from sklearn.linear_model import LinearRegression\n",
    "from sklearn.model_selection import train_test_split, KFold, cross_val_score, GridSearchCV\n",
    "from sklearn.feature_selection import SelectFromModel\n",
    "from sklearn.preprocessing import StandardScaler\n",
    "from sklearn.svm import LinearSVR"
   ]
  },
  {
   "cell_type": "code",
   "execution_count": 4,
   "metadata": {},
   "outputs": [
    {
     "name": "stderr",
     "output_type": "stream",
     "text": [
      "C:\\Users\\tomar\\Anaconda3\\lib\\site-packages\\IPython\\core\\interactiveshell.py:2728: DtypeWarning: Columns (7) have mixed types. Specify dtype option on import or set low_memory=False.\n",
      "  interactivity=interactivity, compiler=compiler, result=result)\n"
     ]
    },
    {
     "name": "stdout",
     "output_type": "stream",
     "text": [
      "If no data, store is open as most of the days it's open\n",
      "Consider only open stores for training. Closed stores wont count into the score.\n",
      "Use only Sales bigger then zero\n"
     ]
    }
   ],
   "source": [
    "train = pd.read_csv(\"train.csv\",parse_dates=[\"Date\"])\n",
    "test = pd.read_csv(\"test.csv\",parse_dates=[\"Date\"])\n",
    "store = pd.read_csv(\"store.csv\")\n",
    "sample = pd.read_csv(\"sample_submission.csv\")\n",
    "sample = sample.drop([\"Sales\"],axis=1)\n",
    "\n",
    "print(\"If no data, store is open as most of the days it's open\")\n",
    "train =train.fillna(1)\n",
    "test=test.fillna(1)\n",
    "\n",
    "print(\"Consider only open stores for training. Closed stores wont count into the score\")\n",
    "train = train[train[\"Open\"] != 0]\n",
    "print(\"Use only Sales bigger then zero\")\n",
    "train = train[train[\"Sales\"] > 0]\n"
   ]
  },
  {
   "cell_type": "code",
   "execution_count": 5,
   "metadata": {},
   "outputs": [],
   "source": [
    "train = pd.merge(train,store,on=\"Store\")\n",
    "test = pd.merge(test,store,on=\"Store\")"
   ]
  },
  {
   "cell_type": "code",
   "execution_count": 6,
   "metadata": {},
   "outputs": [
    {
     "name": "stdout",
     "output_type": "stream",
     "text": [
      " Nulls in train data: \n",
      "\n",
      "Store                             0\n",
      "DayOfWeek                         0\n",
      "Date                              0\n",
      "Sales                             0\n",
      "Customers                         0\n",
      "Open                              0\n",
      "Promo                             0\n",
      "StateHoliday                      0\n",
      "SchoolHoliday                     0\n",
      "StoreType                         0\n",
      "Assortment                        0\n",
      "CompetitionDistance            2186\n",
      "CompetitionOpenSinceMonth    268600\n",
      "CompetitionOpenSinceYear     268600\n",
      "Promo2                            0\n",
      "Promo2SinceWeek              423292\n",
      "Promo2SinceYear              423292\n",
      "PromoInterval                423292\n",
      "dtype: int64\n",
      "\n",
      " Nulls in test data: \n",
      "\n",
      "Id                               0\n",
      "Store                            0\n",
      "DayOfWeek                        0\n",
      "Date                             0\n",
      "Open                             0\n",
      "Promo                            0\n",
      "StateHoliday                     0\n",
      "SchoolHoliday                    0\n",
      "StoreType                        0\n",
      "Assortment                       0\n",
      "CompetitionDistance             96\n",
      "CompetitionOpenSinceMonth    15216\n",
      "CompetitionOpenSinceYear     15216\n",
      "Promo2                           0\n",
      "Promo2SinceWeek              17232\n",
      "Promo2SinceYear              17232\n",
      "PromoInterval                17232\n",
      "dtype: int64\n"
     ]
    }
   ],
   "source": [
    "print(\" Nulls in train data: \\n\")\n",
    "print(train.isna().sum())\n",
    "print(\"\\n Nulls in test data: \\n\")\n",
    "print(test.isna().sum())"
   ]
  },
  {
   "cell_type": "code",
   "execution_count": 7,
   "metadata": {},
   "outputs": [],
   "source": [
    "def feature_engg(data):\n",
    "    mappings = {'0':\"0\", 'a':\"1\", 'b':\"2\", 'c':\"3\", 'd':\"4\"}\n",
    "    mappings1 = {'0':\"0\", 'Jan,Apr,Jul,Oct':\"1\", 'Feb,May,Aug,Nov':\"2\", 'Mar,Jun,Sept,Dec':\"3\"}\n",
    "    data[\"StoreType\"].replace(mappings, inplace=True)\n",
    "    data[\"PromoInterval\"].replace(mappings1, inplace=True)\n",
    "    data.Assortment.replace(mappings, inplace=True)\n",
    "    data.StateHoliday.replace(mappings, inplace=True)\n",
    "    \n",
    "    data['Year'] = data.Date.dt.year\n",
    "    data['Month'] = data.Date.dt.month\n",
    "    data['Day'] = data.Date.dt.day\n",
    "    data['WeekOfYear'] = data.Date.dt.weekofyear\n",
    "    data['Day_Week'] = data.Date.dt.weekday_name\n",
    "    mappings2 = {'Sunday':\"0\", 'Monday':\"1\", 'Tuesday':\"2\", 'Wednesday':\"3\", 'Thursday':\"4\", 'Friday':\"5\", 'Saturday':\"6\"}\n",
    "    data[\"Day_Week\"].replace(mappings2, inplace=True)\n",
    "    data['CompetitionOpen'] = 12 * (data.Year - data.CompetitionOpenSinceYear) + \\\n",
    "        (data.Month - data.CompetitionOpenSinceMonth)\n",
    "    data['CompetitionOpen'] = data.CompetitionOpen.apply(lambda x: x if x > 0 else 0)\n",
    "    data['PrvsHoliday'] = np.where((data[\"StateHoliday\"].shift(1)==1) | (data[\"SchoolHoliday\"].shift(1)==1),1,0)\n",
    "    data['NxtHoliday'] = np.where((data[\"StateHoliday\"].shift(-1)==1) | (data[\"SchoolHoliday\"].shift(-1)==1),1,0)\n",
    "    data['PromoOpen'] = 12 * (data.Year - data.Promo2SinceYear) + \\\n",
    "        (data.WeekOfYear - data.Promo2SinceWeek) / 4.0\n",
    "    data['PromoOpen'] = data[\"PromoOpen\"].apply(lambda x: x if x > 0 else 0)\n",
    "    data.loc[data.Promo2SinceYear == 0, 'PromoOpen'] = 0\n",
    "    \n",
    "    return data"
   ]
  },
  {
   "cell_type": "code",
   "execution_count": 8,
   "metadata": {},
   "outputs": [],
   "source": [
    "train = feature_engg(train)\n",
    "test = feature_engg(test)"
   ]
  },
  {
   "cell_type": "code",
   "execution_count": 9,
   "metadata": {},
   "outputs": [],
   "source": [
    "#train.isna().sum()"
   ]
  },
  {
   "cell_type": "code",
   "execution_count": 10,
   "metadata": {},
   "outputs": [
    {
     "data": {
      "text/plain": [
       "(array([645965., 106452.,  60444.,  14705.,   6359.,   4107.,   2348.,\n",
       "           885.,      0.,    887.]),\n",
       " array([2.0000e+01, 7.6040e+03, 1.5188e+04, 2.2772e+04, 3.0356e+04,\n",
       "        3.7940e+04, 4.5524e+04, 5.3108e+04, 6.0692e+04, 6.8276e+04,\n",
       "        7.5860e+04]),\n",
       " <a list of 10 Patch objects>)"
      ]
     },
     "execution_count": 10,
     "metadata": {},
     "output_type": "execute_result"
    },
    {
     "data": {
      "image/png": "[encoded data removed]",
      "text/plain": [
       "<matplotlib.figure.Figure at 0x2cf8144ccf8>"
      ]
     },
     "metadata": {},
     "output_type": "display_data"
    }
   ],
   "source": [
    "plt.hist(train[\"CompetitionDistance\"].dropna())"
   ]
  },
  {
   "cell_type": "code",
   "execution_count": 11,
   "metadata": {},
   "outputs": [],
   "source": [
    "train[\"CompetitionDistance\"].fillna(np.median(train[\"CompetitionDistance\"].dropna()),inplace=True)"
   ]
  },
  {
   "cell_type": "code",
   "execution_count": 12,
   "metadata": {},
   "outputs": [
    {
     "data": {
      "text/plain": [
       "(array([ 41656.,  52680.,  72253.,  32858.,  37756.,  49008.,  29961.,\n",
       "         95467.,  46192., 117907.]),\n",
       " array([ 1. ,  2.1,  3.2,  4.3,  5.4,  6.5,  7.6,  8.7,  9.8, 10.9, 12. ]),\n",
       " <a list of 10 Patch objects>)"
      ]
     },
     "execution_count": 12,
     "metadata": {},
     "output_type": "execute_result"
    },
    {
     "data": {
      "image/png": "[encoded data removed]",
      "text/plain": [
       "<matplotlib.figure.Figure at 0x2cfffb09240>"
      ]
     },
     "metadata": {},
     "output_type": "display_data"
    }
   ],
   "source": [
    "plt.hist(train[\"CompetitionOpenSinceMonth\"].dropna())"
   ]
  },
  {
   "cell_type": "code",
   "execution_count": 13,
   "metadata": {},
   "outputs": [],
   "source": [
    "train =train.fillna(0)\n",
    "test =test.fillna(0)"
   ]
  },
  {
   "cell_type": "code",
   "execution_count": 14,
   "metadata": {},
   "outputs": [
    {
     "name": "stdout",
     "output_type": "stream",
     "text": [
      "(844338, 27)\n"
     ]
    },
    {
     "data": {
      "text/html": [
       "<div>\n",
       "<style scoped>\n",
       "    .dataframe tbody tr th:only-of-type {\n",
       "        vertical-align: middle;\n",
       "    }\n",
       "\n",
       "    .dataframe tbody tr th {\n",
       "        vertical-align: top;\n",
       "    }\n",
       "\n",
       "    .dataframe thead th {\n",
       "        text-align: right;\n",
       "    }\n",
       "</style>\n",
       "<table border=\"1\" class=\"dataframe\">\n",
       "  <thead>\n",
       "    <tr style=\"text-align: right;\">\n",
       "      <th></th>\n",
       "      <th>Store</th>\n",
       "      <th>DayOfWeek</th>\n",
       "      <th>Date</th>\n",
       "      <th>Sales</th>\n",
       "      <th>Customers</th>\n",
       "      <th>Open</th>\n",
       "      <th>Promo</th>\n",
       "      <th>StateHoliday</th>\n",
       "      <th>SchoolHoliday</th>\n",
       "      <th>StoreType</th>\n",
       "      <th>...</th>\n",
       "      <th>PromoInterval</th>\n",
       "      <th>Year</th>\n",
       "      <th>Month</th>\n",
       "      <th>Day</th>\n",
       "      <th>WeekOfYear</th>\n",
       "      <th>Day_Week</th>\n",
       "      <th>CompetitionOpen</th>\n",
       "      <th>PrvsHoliday</th>\n",
       "      <th>NxtHoliday</th>\n",
       "      <th>PromoOpen</th>\n",
       "    </tr>\n",
       "  </thead>\n",
       "  <tbody>\n",
       "    <tr>\n",
       "      <th>0</th>\n",
       "      <td>1</td>\n",
       "      <td>5</td>\n",
       "      <td>2015-07-31</td>\n",
       "      <td>5263</td>\n",
       "      <td>555</td>\n",
       "      <td>1</td>\n",
       "      <td>1</td>\n",
       "      <td>0</td>\n",
       "      <td>1</td>\n",
       "      <td>3</td>\n",
       "      <td>...</td>\n",
       "      <td>0</td>\n",
       "      <td>2015</td>\n",
       "      <td>7</td>\n",
       "      <td>31</td>\n",
       "      <td>31</td>\n",
       "      <td>5</td>\n",
       "      <td>82.0</td>\n",
       "      <td>0</td>\n",
       "      <td>1</td>\n",
       "      <td>0.0</td>\n",
       "    </tr>\n",
       "    <tr>\n",
       "      <th>1</th>\n",
       "      <td>1</td>\n",
       "      <td>4</td>\n",
       "      <td>2015-07-30</td>\n",
       "      <td>5020</td>\n",
       "      <td>546</td>\n",
       "      <td>1</td>\n",
       "      <td>1</td>\n",
       "      <td>0</td>\n",
       "      <td>1</td>\n",
       "      <td>3</td>\n",
       "      <td>...</td>\n",
       "      <td>0</td>\n",
       "      <td>2015</td>\n",
       "      <td>7</td>\n",
       "      <td>30</td>\n",
       "      <td>31</td>\n",
       "      <td>4</td>\n",
       "      <td>82.0</td>\n",
       "      <td>1</td>\n",
       "      <td>1</td>\n",
       "      <td>0.0</td>\n",
       "    </tr>\n",
       "    <tr>\n",
       "      <th>2</th>\n",
       "      <td>1</td>\n",
       "      <td>3</td>\n",
       "      <td>2015-07-29</td>\n",
       "      <td>4782</td>\n",
       "      <td>523</td>\n",
       "      <td>1</td>\n",
       "      <td>1</td>\n",
       "      <td>0</td>\n",
       "      <td>1</td>\n",
       "      <td>3</td>\n",
       "      <td>...</td>\n",
       "      <td>0</td>\n",
       "      <td>2015</td>\n",
       "      <td>7</td>\n",
       "      <td>29</td>\n",
       "      <td>31</td>\n",
       "      <td>3</td>\n",
       "      <td>82.0</td>\n",
       "      <td>1</td>\n",
       "      <td>1</td>\n",
       "      <td>0.0</td>\n",
       "    </tr>\n",
       "    <tr>\n",
       "      <th>3</th>\n",
       "      <td>1</td>\n",
       "      <td>2</td>\n",
       "      <td>2015-07-28</td>\n",
       "      <td>5011</td>\n",
       "      <td>560</td>\n",
       "      <td>1</td>\n",
       "      <td>1</td>\n",
       "      <td>0</td>\n",
       "      <td>1</td>\n",
       "      <td>3</td>\n",
       "      <td>...</td>\n",
       "      <td>0</td>\n",
       "      <td>2015</td>\n",
       "      <td>7</td>\n",
       "      <td>28</td>\n",
       "      <td>31</td>\n",
       "      <td>2</td>\n",
       "      <td>82.0</td>\n",
       "      <td>1</td>\n",
       "      <td>1</td>\n",
       "      <td>0.0</td>\n",
       "    </tr>\n",
       "    <tr>\n",
       "      <th>4</th>\n",
       "      <td>1</td>\n",
       "      <td>1</td>\n",
       "      <td>2015-07-27</td>\n",
       "      <td>6102</td>\n",
       "      <td>612</td>\n",
       "      <td>1</td>\n",
       "      <td>1</td>\n",
       "      <td>0</td>\n",
       "      <td>1</td>\n",
       "      <td>3</td>\n",
       "      <td>...</td>\n",
       "      <td>0</td>\n",
       "      <td>2015</td>\n",
       "      <td>7</td>\n",
       "      <td>27</td>\n",
       "      <td>31</td>\n",
       "      <td>1</td>\n",
       "      <td>82.0</td>\n",
       "      <td>1</td>\n",
       "      <td>0</td>\n",
       "      <td>0.0</td>\n",
       "    </tr>\n",
       "  </tbody>\n",
       "</table>\n",
       "<p>5 rows × 27 columns</p>\n",
       "</div>"
      ],
      "text/plain": [
       "   Store  DayOfWeek       Date  Sales  Customers  Open  Promo StateHoliday  \\\n",
       "0      1          5 2015-07-31   5263        555     1      1            0   \n",
       "1      1          4 2015-07-30   5020        546     1      1            0   \n",
       "2      1          3 2015-07-29   4782        523     1      1            0   \n",
       "3      1          2 2015-07-28   5011        560     1      1            0   \n",
       "4      1          1 2015-07-27   6102        612     1      1            0   \n",
       "\n",
       "   SchoolHoliday StoreType    ...     PromoInterval  Year  Month  Day  \\\n",
       "0              1         3    ...                 0  2015      7   31   \n",
       "1              1         3    ...                 0  2015      7   30   \n",
       "2              1         3    ...                 0  2015      7   29   \n",
       "3              1         3    ...                 0  2015      7   28   \n",
       "4              1         3    ...                 0  2015      7   27   \n",
       "\n",
       "   WeekOfYear  Day_Week  CompetitionOpen PrvsHoliday  NxtHoliday  PromoOpen  \n",
       "0          31         5             82.0           0           1        0.0  \n",
       "1          31         4             82.0           1           1        0.0  \n",
       "2          31         3             82.0           1           1        0.0  \n",
       "3          31         2             82.0           1           1        0.0  \n",
       "4          31         1             82.0           1           0        0.0  \n",
       "\n",
       "[5 rows x 27 columns]"
      ]
     },
     "execution_count": 14,
     "metadata": {},
     "output_type": "execute_result"
    }
   ],
   "source": [
    "print(train.shape)\n",
    "train.head()"
   ]
  },
  {
   "cell_type": "code",
   "execution_count": 15,
   "metadata": {},
   "outputs": [
    {
     "name": "stdout",
     "output_type": "stream",
     "text": [
      "(41088, 26)\n"
     ]
    },
    {
     "data": {
      "text/html": [
       "<div>\n",
       "<style scoped>\n",
       "    .dataframe tbody tr th:only-of-type {\n",
       "        vertical-align: middle;\n",
       "    }\n",
       "\n",
       "    .dataframe tbody tr th {\n",
       "        vertical-align: top;\n",
       "    }\n",
       "\n",
       "    .dataframe thead th {\n",
       "        text-align: right;\n",
       "    }\n",
       "</style>\n",
       "<table border=\"1\" class=\"dataframe\">\n",
       "  <thead>\n",
       "    <tr style=\"text-align: right;\">\n",
       "      <th></th>\n",
       "      <th>Id</th>\n",
       "      <th>Store</th>\n",
       "      <th>DayOfWeek</th>\n",
       "      <th>Date</th>\n",
       "      <th>Open</th>\n",
       "      <th>Promo</th>\n",
       "      <th>StateHoliday</th>\n",
       "      <th>SchoolHoliday</th>\n",
       "      <th>StoreType</th>\n",
       "      <th>Assortment</th>\n",
       "      <th>...</th>\n",
       "      <th>PromoInterval</th>\n",
       "      <th>Year</th>\n",
       "      <th>Month</th>\n",
       "      <th>Day</th>\n",
       "      <th>WeekOfYear</th>\n",
       "      <th>Day_Week</th>\n",
       "      <th>CompetitionOpen</th>\n",
       "      <th>PrvsHoliday</th>\n",
       "      <th>NxtHoliday</th>\n",
       "      <th>PromoOpen</th>\n",
       "    </tr>\n",
       "  </thead>\n",
       "  <tbody>\n",
       "    <tr>\n",
       "      <th>0</th>\n",
       "      <td>1</td>\n",
       "      <td>1</td>\n",
       "      <td>4</td>\n",
       "      <td>2015-09-17</td>\n",
       "      <td>1.0</td>\n",
       "      <td>1</td>\n",
       "      <td>0</td>\n",
       "      <td>0</td>\n",
       "      <td>3</td>\n",
       "      <td>1</td>\n",
       "      <td>...</td>\n",
       "      <td>0</td>\n",
       "      <td>2015</td>\n",
       "      <td>9</td>\n",
       "      <td>17</td>\n",
       "      <td>38</td>\n",
       "      <td>4</td>\n",
       "      <td>84.0</td>\n",
       "      <td>0</td>\n",
       "      <td>0</td>\n",
       "      <td>0.0</td>\n",
       "    </tr>\n",
       "    <tr>\n",
       "      <th>1</th>\n",
       "      <td>857</td>\n",
       "      <td>1</td>\n",
       "      <td>3</td>\n",
       "      <td>2015-09-16</td>\n",
       "      <td>1.0</td>\n",
       "      <td>1</td>\n",
       "      <td>0</td>\n",
       "      <td>0</td>\n",
       "      <td>3</td>\n",
       "      <td>1</td>\n",
       "      <td>...</td>\n",
       "      <td>0</td>\n",
       "      <td>2015</td>\n",
       "      <td>9</td>\n",
       "      <td>16</td>\n",
       "      <td>38</td>\n",
       "      <td>3</td>\n",
       "      <td>84.0</td>\n",
       "      <td>0</td>\n",
       "      <td>0</td>\n",
       "      <td>0.0</td>\n",
       "    </tr>\n",
       "    <tr>\n",
       "      <th>2</th>\n",
       "      <td>1713</td>\n",
       "      <td>1</td>\n",
       "      <td>2</td>\n",
       "      <td>2015-09-15</td>\n",
       "      <td>1.0</td>\n",
       "      <td>1</td>\n",
       "      <td>0</td>\n",
       "      <td>0</td>\n",
       "      <td>3</td>\n",
       "      <td>1</td>\n",
       "      <td>...</td>\n",
       "      <td>0</td>\n",
       "      <td>2015</td>\n",
       "      <td>9</td>\n",
       "      <td>15</td>\n",
       "      <td>38</td>\n",
       "      <td>2</td>\n",
       "      <td>84.0</td>\n",
       "      <td>0</td>\n",
       "      <td>0</td>\n",
       "      <td>0.0</td>\n",
       "    </tr>\n",
       "    <tr>\n",
       "      <th>3</th>\n",
       "      <td>2569</td>\n",
       "      <td>1</td>\n",
       "      <td>1</td>\n",
       "      <td>2015-09-14</td>\n",
       "      <td>1.0</td>\n",
       "      <td>1</td>\n",
       "      <td>0</td>\n",
       "      <td>0</td>\n",
       "      <td>3</td>\n",
       "      <td>1</td>\n",
       "      <td>...</td>\n",
       "      <td>0</td>\n",
       "      <td>2015</td>\n",
       "      <td>9</td>\n",
       "      <td>14</td>\n",
       "      <td>38</td>\n",
       "      <td>1</td>\n",
       "      <td>84.0</td>\n",
       "      <td>0</td>\n",
       "      <td>0</td>\n",
       "      <td>0.0</td>\n",
       "    </tr>\n",
       "    <tr>\n",
       "      <th>4</th>\n",
       "      <td>3425</td>\n",
       "      <td>1</td>\n",
       "      <td>7</td>\n",
       "      <td>2015-09-13</td>\n",
       "      <td>0.0</td>\n",
       "      <td>0</td>\n",
       "      <td>0</td>\n",
       "      <td>0</td>\n",
       "      <td>3</td>\n",
       "      <td>1</td>\n",
       "      <td>...</td>\n",
       "      <td>0</td>\n",
       "      <td>2015</td>\n",
       "      <td>9</td>\n",
       "      <td>13</td>\n",
       "      <td>37</td>\n",
       "      <td>0</td>\n",
       "      <td>84.0</td>\n",
       "      <td>0</td>\n",
       "      <td>0</td>\n",
       "      <td>0.0</td>\n",
       "    </tr>\n",
       "  </tbody>\n",
       "</table>\n",
       "<p>5 rows × 26 columns</p>\n",
       "</div>"
      ],
      "text/plain": [
       "     Id  Store  DayOfWeek       Date  Open  Promo StateHoliday  SchoolHoliday  \\\n",
       "0     1      1          4 2015-09-17   1.0      1            0              0   \n",
       "1   857      1          3 2015-09-16   1.0      1            0              0   \n",
       "2  1713      1          2 2015-09-15   1.0      1            0              0   \n",
       "3  2569      1          1 2015-09-14   1.0      1            0              0   \n",
       "4  3425      1          7 2015-09-13   0.0      0            0              0   \n",
       "\n",
       "  StoreType Assortment    ...      PromoInterval  Year  Month  Day  \\\n",
       "0         3          1    ...                  0  2015      9   17   \n",
       "1         3          1    ...                  0  2015      9   16   \n",
       "2         3          1    ...                  0  2015      9   15   \n",
       "3         3          1    ...                  0  2015      9   14   \n",
       "4         3          1    ...                  0  2015      9   13   \n",
       "\n",
       "   WeekOfYear  Day_Week CompetitionOpen  PrvsHoliday  NxtHoliday  PromoOpen  \n",
       "0          38         4            84.0            0           0        0.0  \n",
       "1          38         3            84.0            0           0        0.0  \n",
       "2          38         2            84.0            0           0        0.0  \n",
       "3          38         1            84.0            0           0        0.0  \n",
       "4          37         0            84.0            0           0        0.0  \n",
       "\n",
       "[5 rows x 26 columns]"
      ]
     },
     "execution_count": 15,
     "metadata": {},
     "output_type": "execute_result"
    }
   ],
   "source": [
    "print(test.shape)\n",
    "test.head()"
   ]
  },
  {
   "cell_type": "code",
   "execution_count": 16,
   "metadata": {},
   "outputs": [],
   "source": [
    "#def type_conv(df):\n",
    "#    df['Store'] = df['Store'].astype('category')\n",
    "#    df['DayOfWeek'] = df['Store'].astype('category')\n",
    "#    df['StateHoliday'] = df['StateHoliday'].astype('category')\n",
    "#    df['SchoolHoliday'] = df['SchoolHoliday'].astype('category')\n",
    "#    df['Assortment'] = df['Assortment'].astype('category')\n",
    "#    df['StoreType'] = df['StoreType'].astype('category')\n",
    "#    df['Promo2']= df['Promo2'].astype('category')\n",
    "#    df['PromoInterval']= df['Promo2'].astype('category')\n",
    "#    return df"
   ]
  },
  {
   "cell_type": "code",
   "execution_count": 17,
   "metadata": {},
   "outputs": [],
   "source": [
    "#train = type_conv(train)\n",
    "#test = type_conv(test)"
   ]
  },
  {
   "cell_type": "code",
   "execution_count": 18,
   "metadata": {},
   "outputs": [],
   "source": [
    "train = train.drop([\"CompetitionOpenSinceMonth\",\"CompetitionOpenSinceYear\",\"Customers\",\"Promo2SinceWeek\",\"Promo2SinceYear\"],axis=1)\n",
    "test = test.drop([\"CompetitionOpenSinceMonth\",\"CompetitionOpenSinceYear\",\"Promo2SinceWeek\",\"Promo2SinceYear\"],axis=1)"
   ]
  },
  {
   "cell_type": "code",
   "execution_count": 19,
   "metadata": {},
   "outputs": [
    {
     "data": {
      "text/plain": [
       "844338"
      ]
     },
     "execution_count": 19,
     "metadata": {},
     "output_type": "execute_result"
    }
   ],
   "source": [
    "train.shape[0]"
   ]
  },
  {
   "cell_type": "code",
   "execution_count": 20,
   "metadata": {},
   "outputs": [],
   "source": [
    "df = pd.get_dummies(train[[\"StoreType\",\"Assortment\",\n",
    "                          \"PromoInterval\"]],prefix_sep=\"_\",drop_first=True)\n",
    "df1 = pd.get_dummies(test[[\"StoreType\",\"Assortment\",\n",
    "                          \"PromoInterval\"]],prefix_sep=\"_\",drop_first=True)"
   ]
  },
  {
   "cell_type": "code",
   "execution_count": 21,
   "metadata": {},
   "outputs": [],
   "source": [
    "train = pd.concat([train,df],axis=1)\n",
    "test = pd.concat([test,df1],axis=1)"
   ]
  },
  {
   "cell_type": "code",
   "execution_count": 22,
   "metadata": {},
   "outputs": [],
   "source": [
    "def rmspe(y, yhat):\n",
    "    return np.sqrt(np.mean(((y - yhat)/y) ** 2))\n",
    "\n",
    "def rmspe_xg(yhat, y):\n",
    "    y = np.expm1(y.get_label())\n",
    "    yhat = np.expm1(yhat)\n",
    "    return \"rmspe\", rmspe(y, yhat)"
   ]
  },
  {
   "cell_type": "code",
   "execution_count": 23,
   "metadata": {},
   "outputs": [],
   "source": [
    "X_train = train.drop([\"Sales\",\"Date\",\"Open\",],axis=1)\n",
    "y_train = train[\"Sales\"]\n",
    "X_test = test.drop([\"Id\",\"Date\",\"Open\",],axis=1)"
   ]
  },
  {
   "cell_type": "code",
   "execution_count": 24,
   "metadata": {},
   "outputs": [],
   "source": [
    "scaler = StandardScaler()\n",
    "X_train, X_val, y_train, y_val = train_test_split(X_train, y_train, test_size=0.15, random_state=15)\n",
    "X_train_scale = scaler.fit_transform(X_train)\n",
    "X_val_scale = scaler.transform(X_val)\n",
    "X_test_scale = scaler.transform(X_test)"
   ]
  },
  {
   "cell_type": "code",
   "execution_count": 25,
   "metadata": {},
   "outputs": [],
   "source": [
    "inner_cv = KFold(n_splits=4, shuffle=True, random_state=0)\n",
    "outer_cv = KFold(n_splits=4, shuffle=True, random_state=0)"
   ]
  },
  {
   "cell_type": "code",
   "execution_count": 28,
   "metadata": {},
   "outputs": [],
   "source": [
    "import xgboost as xgb\n",
    "params = {\"objective\": \"reg:linear\",\n",
    "          \"booster\" : \"gbtree\",\n",
    "          \"eta\": 0.1,\n",
    "          \"max_depth\": 10,\n",
    "          \"subsample\": 0.85,\n",
    "          \"colsample_bytree\": 0.4,\n",
    "          \"min_child_weight\": 6,\n",
    "          \"silent\": 1,\n",
    "          \"thread\": 1,\n",
    "          \"seed\": 1301\n",
    "          }\n",
    "num_boost_round = 2000\n",
    "\n",
    "\n",
    "y_train = np.log(y_train)\n",
    "y_val1 = np.log(y_val)\n",
    "dtrain = xgb.DMatrix(X_train_scale, y_train)\n",
    "dvalid = xgb.DMatrix(X_val_scale, y_val1)\n",
    "\n",
    "watchlist = [(dtrain, 'train'), (dvalid, 'eval')]"
   ]
  },
  {
   "cell_type": "code",
   "execution_count": 29,
   "metadata": {
    "scrolled": false
   },
   "outputs": [
    {
     "name": "stdout",
     "output_type": "stream",
     "text": [
      "[0]\ttrain-rmse:1.50262\teval-rmse:8.10174\ttrain-rmspe:0.877449\teval-rmspe:0.999837\n",
      "Multiple eval metrics have been passed: 'eval-rmspe' will be used for early stopping.\n",
      "\n",
      "Will train until eval-rmspe hasn't improved in 10 rounds.\n",
      "[1]\ttrain-rmse:1.35249\teval-rmse:7.95172\ttrain-rmspe:0.836664\teval-rmspe:0.999782\n",
      "[2]\ttrain-rmse:1.21739\teval-rmse:7.81671\ttrain-rmspe:0.794348\teval-rmspe:0.999726\n",
      "[3]\ttrain-rmse:1.0958\teval-rmse:7.69519\ttrain-rmspe:0.75106\teval-rmspe:0.999668\n",
      "[4]\ttrain-rmse:0.986401\teval-rmse:7.58584\ttrain-rmspe:0.707344\teval-rmspe:0.99961\n",
      "[5]\ttrain-rmse:0.88796\teval-rmse:7.48743\ttrain-rmspe:0.663703\teval-rmspe:0.999552\n",
      "[6]\ttrain-rmse:0.799381\teval-rmse:7.39886\ttrain-rmspe:0.620591\teval-rmspe:0.999495\n",
      "[7]\ttrain-rmse:0.719674\teval-rmse:7.31915\ttrain-rmspe:0.578404\teval-rmspe:0.999439\n",
      "[8]\ttrain-rmse:0.64793\teval-rmse:7.24738\ttrain-rmspe:0.53747\teval-rmspe:0.999385\n",
      "[9]\ttrain-rmse:0.583381\teval-rmse:7.18279\ttrain-rmspe:0.498043\teval-rmspe:0.999332\n",
      "[10]\ttrain-rmse:0.525308\teval-rmse:7.12466\ttrain-rmspe:0.460337\teval-rmspe:0.999282\n",
      "[11]\ttrain-rmse:0.473086\teval-rmse:7.07236\ttrain-rmspe:0.424494\teval-rmspe:0.999235\n",
      "[12]\ttrain-rmse:0.426103\teval-rmse:7.02527\ttrain-rmspe:0.39062\teval-rmspe:0.99919\n",
      "[13]\ttrain-rmse:0.383855\teval-rmse:6.98291\ttrain-rmspe:0.358766\teval-rmspe:0.999147\n",
      "[14]\ttrain-rmse:0.345879\teval-rmse:6.94479\ttrain-rmspe:0.328959\teval-rmspe:0.999108\n",
      "[15]\ttrain-rmse:0.311733\teval-rmse:6.91047\ttrain-rmspe:0.301179\teval-rmspe:0.999071\n",
      "[16]\ttrain-rmse:0.281033\teval-rmse:6.87957\ttrain-rmspe:0.275389\teval-rmspe:0.999036\n",
      "[17]\ttrain-rmse:0.253458\teval-rmse:6.85176\ttrain-rmspe:0.251535\teval-rmspe:0.999004\n",
      "[18]\ttrain-rmse:0.228699\teval-rmse:6.82674\ttrain-rmspe:0.22955\teval-rmspe:0.998975\n",
      "[19]\ttrain-rmse:0.206448\teval-rmse:6.80422\ttrain-rmspe:0.209338\teval-rmspe:0.998948\n"
     ]
    }
   ],
   "source": [
    "gbm = xgb.train(params, dtrain, num_boost_round, evals=watchlist, early_stopping_rounds=10, \\\n",
    "  feval=rmspe_xg, verbose_eval=True)\n"
   ]
  },
  {
   "cell_type": "code",
   "execution_count": 30,
   "metadata": {},
   "outputs": [
    {
     "name": "stdout",
     "output_type": "stream",
     "text": [
      "Validating\n",
      "RMSPE: 0.999195\n",
      "Make predictions on the test set\n"
     ]
    }
   ],
   "source": [
    "print(\"Validating\")\n",
    "yhat1 = gbm.predict(xgb.DMatrix(X_val_scale))\n",
    "error = rmspe(y_val, np.exp(yhat1))\n",
    "print('RMSPE: {:.6f}'.format(error))\n",
    "\n",
    "print(\"Make predictions on the test set\")\n",
    "dtest = xgb.DMatrix(X_test_scale)\n",
    "test_probs = gbm.predict(dtest)"
   ]
  },
  {
   "cell_type": "code",
   "execution_count": 31,
   "metadata": {},
   "outputs": [
    {
     "data": {
      "text/plain": [
       "RandomForestRegressor(bootstrap=True, criterion='mse', max_depth=None,\n",
       "           max_features='auto', max_leaf_nodes=None,\n",
       "           min_impurity_decrease=0.0, min_impurity_split=None,\n",
       "           min_samples_leaf=1, min_samples_split=2,\n",
       "           min_weight_fraction_leaf=0.0, n_estimators=50, n_jobs=1,\n",
       "           oob_score=False, random_state=None, verbose=0, warm_start=False)"
      ]
     },
     "execution_count": 31,
     "metadata": {},
     "output_type": "execute_result"
    }
   ],
   "source": [
    "from sklearn.ensemble import RandomForestRegressor\n",
    "rfr=RandomForestRegressor(n_estimators=50)\n",
    "rfr.fit(X_train,y_train)"
   ]
  },
  {
   "cell_type": "code",
   "execution_count": 32,
   "metadata": {},
   "outputs": [
    {
     "name": "stdout",
     "output_type": "stream",
     "text": [
      "Validating\n",
      "RMSPE: 0.998520\n",
      "Make predictions on the test set\n"
     ]
    }
   ],
   "source": [
    "print(\"Validating\")\n",
    "yhat = rfr.predict(X_val)\n",
    "error = rmspe(y_val, np.exp(yhat))\n",
    "print('RMSPE: {:.6f}'.format(error))\n",
    "\n",
    "print(\"Make predictions on the test set\")\n",
    "test_probs_rfr = rfr.predict(X_test)"
   ]
  },
  {
   "cell_type": "code",
   "execution_count": null,
   "metadata": {},
   "outputs": [],
   "source": [
    "rmspe(y_val, np.exp(yhat2))"
   ]
  },
  {
   "cell_type": "code",
   "execution_count": null,
   "metadata": {},
   "outputs": [],
   "source": [
    "lsvr = LinearSVR(C=.01).fit(X_train_scale,y_train)\n",
    "model = SelectFromModel(lsvr, prefit=True)\n",
    "X_train_scale_sm = model.transform(X_train_scale)\n",
    "print(X_train_scale_sm.shape)\n",
    "X_test_scale_sm = model.transform(X_test_scale)\n",
    "print(X_train_scale.shape)"
   ]
  },
  {
   "cell_type": "code",
   "execution_count": null,
   "metadata": {},
   "outputs": [],
   "source": [
    "from sklearn.svm import SVR, LinearSVR\n",
    "svr = LinearSVR(C=0.01)\n",
    "svr.fit(X_train_scale_sm,y_train)"
   ]
  },
  {
   "cell_type": "code",
   "execution_count": null,
   "metadata": {},
   "outputs": [],
   "source": [
    "X_val_scale_sm = model.transform(X_val_scale)\n",
    "print(\"Validating\")\n",
    "yhat = svr.predict(X_val_scale_sm)\n",
    "error = rmspe(y_val, np.exp(yhat))\n",
    "print('RMSPE: {:.6f}'.format(error))\n",
    "\n",
    "print(\"Make predictions on the test set\")\n",
    "test_probs_svr = svr.predict(X_test_scale_sm)"
   ]
  },
  {
   "cell_type": "code",
   "execution_count": null,
   "metadata": {},
   "outputs": [],
   "source": [
    "regr = LinearRegression()\n",
    "X_val_scale_sm = model.transform(X_val_scale)"
   ]
  },
  {
   "cell_type": "code",
   "execution_count": null,
   "metadata": {},
   "outputs": [],
   "source": [
    "regr.fit(X_train_scale_sm,y_train)\n",
    "print(\"Validating Linear Regression\")\n",
    "yhat_lr = regr.predict(X_val_scale_sm)\n",
    "error = rmspe(y_val, np.exp(yhat_lr))\n",
    "print('RMSPE: {:.6f}'.format(error))\n",
    "\n",
    "print(\"Make predictions on the test set\")\n",
    "test_probs_lr = regr.predict(X_test_scale_sm)"
   ]
  },
  {
   "cell_type": "code",
   "execution_count": null,
   "metadata": {},
   "outputs": [],
   "source": [
    "from sklearn.linear_model import Lasso,Ridge\n",
    "from sklearn.metrics.scorer import make_scorer\n",
    "my_scorer = make_scorer(rmspe, greater_is_better=False)"
   ]
  },
  {
   "cell_type": "code",
   "execution_count": null,
   "metadata": {},
   "outputs": [],
   "source": [
    "p_grid = {'alpha': [1e-3,1e-2,1e-1]}\n",
    "lasso = Lasso()\n",
    "# Non_nested parameter search and scoring\n",
    "gs = GridSearchCV(estimator=lasso, param_grid=p_grid,\n",
    " cv=inner_cv, scoring=my_scorer, return_train_score=True)\n",
    "gs.fit(X_train_scale_sm, y_train)"
   ]
  },
  {
   "cell_type": "code",
   "execution_count": null,
   "metadata": {},
   "outputs": [],
   "source": [
    "print(\"Validating Lasso\")\n",
    "yhat_lr = gs.predict(X_val_scale_sm)\n",
    "error = rmspe(y_val, np.exp(yhat_lr))\n",
    "print('RMSPE: {:.6f}'.format(error))\n",
    "print('Best params are: {0}'.format(gs.best_params_))\n",
    "\n",
    "print(\"Make predictions on the test set\")\n",
    "test_probs_lr = regr.predict(X_test_scale_sm)"
   ]
  },
  {
   "cell_type": "code",
   "execution_count": null,
   "metadata": {},
   "outputs": [],
   "source": [
    "p_grid = {'alpha': [1e-3,1e-2,1e-1]}\n",
    "ridge = Ridge()\n",
    "# Non_nested parameter search and scoring\n",
    "gs = GridSearchCV(estimator=ridge, param_grid=p_grid,\n",
    " cv=inner_cv, scoring=my_scorer,return_train_score=True)\n",
    "gs.fit(X_train_scale_sm, y_train)"
   ]
  },
  {
   "cell_type": "code",
   "execution_count": null,
   "metadata": {},
   "outputs": [],
   "source": [
    "print(\"Validating Ridge\")\n",
    "yhat_lr = gs.predict(X_val_scale_sm)\n",
    "error = rmspe(y_val, np.exp(yhat_lr))\n",
    "print('RMSPE: {:.6f}'.format(error))\n",
    "print('Best params are: {0}'.format(gs.best_params_))\n",
    "print(\"Make predictions on the test set\")\n",
    "test_probs_lr = regr.predict(X_test_scale_sm)"
   ]
  },
  {
   "cell_type": "code",
   "execution_count": null,
   "metadata": {},
   "outputs": [],
   "source": [
    "# Make Submission\n",
    "result = pd.DataFrame({\"Id\": test[\"Id\"], 'Sales': np.exp(test_probs), \"open\":test['Open']})\n",
    "#result[\"Sales\"]=np.where(result[\"open\"]==0,0,result[\"Sales\"])\n",
    "result=result.drop(\"open\",axis=1)\n",
    "result.to_csv(\"submission1.csv\", index=False)"
   ]
  },
  {
   "cell_type": "code",
   "execution_count": null,
   "metadata": {},
   "outputs": [],
   "source": [
    "from keras.models import Sequential\n",
    "from keras.layers import Dense\n",
    "from keras.wrappers.scikit_learn import KerasRegressor\n",
    "from livelossplot import PlotLossesKeras\n",
    "import tensorflow as tf\n",
    "from keras import optimizers\n",
    "from keras import regularizers\n",
    "import keras.backend as K\n",
    "from keras.layers import LSTM,GRU\n",
    "from keras.layers.core import Dense, Activation, Dropout"
   ]
  },
  {
   "cell_type": "code",
   "execution_count": null,
   "metadata": {},
   "outputs": [],
   "source": [
    "def RMSPE_for_Keras(y, yhat):\n",
    "    return K.sqrt(K.mean(((y - yhat)/y) ** 2))"
   ]
  },
  {
   "cell_type": "code",
   "execution_count": null,
   "metadata": {},
   "outputs": [],
   "source": [
    "s = tf.InteractiveSession()\n",
    "model = Sequential()\n",
    "model.add(Dense(50, input_dim=np.shape(X_train_scale)[1],activation='relu',kernel_initializer = 'uniform'))\n",
    "model.add(Dropout(0.2))\n",
    "model.add(Dense(25,activation='relu',kernel_initializer = 'uniform'))\n",
    "model.add(Dropout(0.2))\n",
    "model.add(Dense(10,activation='relu',kernel_initializer = 'uniform'))\n",
    "model.add(Dense(1))\n",
    "\n",
    "#sgd = SGD(lr=0.01, decay=1e-6, momentum=0.9, nesterov=True)\n",
    "\n",
    "model.compile(loss='mean_absolute_percentage_error', optimizer='adam')\n",
    "model.fit(X_train_scale, y_train, epochs=20,batch_size=200, verbose=1,callbacks=[PlotLossesKeras()],validation_data=(\n",
    "    X_val_scale, y_val1))"
   ]
  },
  {
   "cell_type": "code",
   "execution_count": null,
   "metadata": {},
   "outputs": [],
   "source": [
    "print(\"Validating\")\n",
    "yhat_mlp = model.predict(X_val_scale)\n",
    "yhat_mlp = [x[0] for x in yhat_mlp]\n",
    "error = rmspe(y_val, np.exp(yhat_mlp))\n",
    "print('RMSPE: {:.6f}'.format(error))\n",
    "\n",
    "print(\"Make predictions on the test set\")\n",
    "test_probs_mlp = model.predict(X_test_scale)"
   ]
  },
  {
   "cell_type": "code",
   "execution_count": null,
   "metadata": {},
   "outputs": [],
   "source": [
    "X_train_scale_rs = np.reshape(X_train_scale, (X_train_scale.shape[0],X_train_scale.shape[1],1))\n",
    "X_val_scale_rs = np.reshape(X_val_scale, (X_val_scale.shape[0],X_val_scale.shape[1],1))\n",
    "X_test_scale_rs = np.reshape(X_test_scale, (X_test_scale.shape[0],X_test_scale.shape[1],1))"
   ]
  }
 ],
 "metadata": {
  "kernelspec": {
   "display_name": "Python 3",
   "language": "python",
   "name": "python3"
  },
  "language_info": {
   "codemirror_mode": {
    "name": "ipython",
    "version": 3
   },
   "file_extension": ".py",
   "mimetype": "text/x-python",
   "name": "python",
   "nbconvert_exporter": "python",
   "pygments_lexer": "ipython3",
   "version": "3.6.4"
  }
 },
 "nbformat": 4,
 "nbformat_minor": 2
}
